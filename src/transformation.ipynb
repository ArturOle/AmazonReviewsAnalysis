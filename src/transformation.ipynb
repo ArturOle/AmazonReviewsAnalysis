{
 "cells": [
  {
   "attachments": {},
   "cell_type": "markdown",
   "metadata": {},
   "source": [
    "### Sentiment Analysis\n",
    "Task: Geather as much information from data as possible.\n",
    "Data: Cell_Phones_&_Accerssories.txt\n"
   ]
  },
  {
   "cell_type": "code",
   "execution_count": 3,
   "metadata": {},
   "outputs": [
    {
     "data": {
      "text/plain": [
       "Dict{Any, Any} with 7438 entries:\n",
       "  \"B000C9VFEO\" => Any[Dict{SubString{String}, SubString{String}}(\"summary\"=>\"WA…\n",
       "  \"B000M8WA2G\" => Any[Dict{SubString{String}, SubString{String}}(\"summary\"=>\"Di…\n",
       "  \"B0000AKAI3\" => Any[Dict{SubString{String}, SubString{String}}(\"summary\"=>\"Ph…\n",
       "  \"B000MAT1I0\" => Any[Dict{SubString{String}, SubString{String}}(\"summary\"=>\"Gr…\n",
       "  \"B000MXRBLQ\" => Any[Dict{SubString{String}, SubString{String}}(\"summary\"=>\"Pe…\n",
       "  \"B000P4DSZA\" => Any[Dict{SubString{String}, SubString{String}}(\"summary\"=>\"Ph…\n",
       "  \"B00004XMP7\" => Any[Dict{SubString{String}, SubString{String}}(\"summary\"=>\"Sp…\n",
       "  \"B0006BBF66\" => Any[Dict{SubString{String}, SubString{String}}(\"summary\"=>\"Fi…\n",
       "  \"B000N64BT2\" => Any[Dict{SubString{String}, SubString{String}}(\"summary\"=>\"Wo…\n",
       "  \"B000I0R3XO\" => Any[Dict{SubString{String}, SubString{String}}(\"summary\"=>\"I …\n",
       "  \"B000Q9DWTQ\" => Any[Dict{SubString{String}, SubString{String}}(\"summary\"=>\"fi…\n",
       "  \"B000ARGRZU\" => Any[Dict{SubString{String}, SubString{String}}(\"summary\"=>\"gr…\n",
       "  \"B000M15YBC\" => Any[Dict{SubString{String}, SubString{String}}(\"summary\"=>\"Pr…\n",
       "  \"B000HGJD6E\" => Any[Dict{SubString{String}, SubString{String}}(\"summary\"=>\"Wo…\n",
       "  \"B000NIG8ZA\" => Any[Dict{SubString{String}, SubString{String}}(\"summary\"=>\"lo…\n",
       "  \"B0000DF2SA\" => Any[Dict{SubString{String}, SubString{String}}(\"summary\"=>\"Ex…\n",
       "  \"B0002DG1WG\" => Any[Dict{SubString{String}, SubString{String}}(\"summary\"=>\"It…\n",
       "  \"B000NWHWJM\" => Any[Dict{SubString{String}, SubString{String}}(\"summary\"=>\"Wo…\n",
       "  \"B00076Q2YA\" => Any[Dict{SubString{String}, SubString{String}}(\"summary\"=>\"Fo…\n",
       "  \"B000MWLEVA\" => Any[Dict{SubString{String}, SubString{String}}(\"summary\"=>\"no…\n",
       "  \"B000GBZ1J8\" => Any[Dict{SubString{String}, SubString{String}}(\"summary\"=>\"Ch…\n",
       "  \"B000Q79IRI\" => Any[Dict{SubString{String}, SubString{String}}(\"summary\"=>\"I …\n",
       "  \"B0006VSHYO\" => Any[Dict{SubString{String}, SubString{String}}(\"summary\"=>\"Go…\n",
       "  \"B0000C77XQ\" => Any[Dict{SubString{String}, SubString{String}}(\"summary\"=>\"No…\n",
       "  \"B000HARRXQ\" => Any[Dict{SubString{String}, SubString{String}}(\"summary\"=>\"It…\n",
       "  ⋮            => ⋮"
      ]
     },
     "metadata": {},
     "output_type": "display_data"
    },
    {
     "data": {
      "text/plain": [
       "66130865"
      ]
     },
     "execution_count": 3,
     "metadata": {},
     "output_type": "execute_result"
    }
   ],
   "source": [
    "using JSON\n",
    "\n",
    "data = []\n",
    "data = readlines(\"Cell_Phones_&_Accessories.txt\")\n",
    "\n",
    "products = Dict()\n",
    "productId = \"\"\n",
    "product_data = []\n",
    "for line in data\n",
    "    if line != \"\"\n",
    "        splitted_line = split(line, \": \")        \n",
    "        splitted_line[1] = split(splitted_line[1], \"/\")[2]\n",
    "\n",
    "        if splitted_line[1] == \"productId\"\n",
    "            if splitted_line[2] ∉ keys(products)\n",
    "                products[splitted_line[2]] = []\n",
    "            end\n",
    "            productId = splitted_line[2]\n",
    "        else\n",
    "            append!(product_data, [Tuple(splitted_line)])\n",
    "        end \n",
    "    else\n",
    "        append!(products[productId], [Dict(product_data)])\n",
    "        product_data = []\n",
    "        productId = \"\"\n",
    "    end\n",
    "end\n",
    "\n",
    "display(products)\n",
    "\n",
    "data = JSON.json(products, 2)\n",
    "\n",
    "open(\"cell_phones_and_accessories.json\", \"w+\") do f\n",
    "    write(f, data)\n",
    "end"
   ]
  }
 ],
 "metadata": {
  "interpreter": {
   "hash": "4cf2d87970fef5c47e1bc4c529f48171606c7e216f3d8a926b4c516e303aa1b7"
  },
  "kernelspec": {
   "display_name": "Julia 1.7.3",
   "language": "julia",
   "name": "julia-1.7"
  },
  "language_info": {
   "file_extension": ".jl",
   "mimetype": "application/julia",
   "name": "julia",
   "version": "1.7.3"
  },
  "orig_nbformat": 4
 },
 "nbformat": 4,
 "nbformat_minor": 2
}
