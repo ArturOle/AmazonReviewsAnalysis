{
 "cells": [
  {
   "cell_type": "code",
   "execution_count": 12,
   "metadata": {},
   "outputs": [
    {
     "name": "stdout",
     "output_type": "stream",
     "text": [
      "Logistic Regression: 0.875\n",
      "Linear kernel SVC accuracy: 1.0\n",
      "Radial Basis Function kernel SVC accuracy: 1.0\n",
      "Gaussian Naive Bayes accuracy: 1.0\n",
      "Multi-layer Perceptron Classifier accuracy: 1.0\n"
     ]
    }
   ],
   "source": [
    "from sklearn.feature_extraction.text import CountVectorizer\n",
    "from sklearn.linear_model import LogisticRegression\n",
    "from sklearn.model_selection import train_test_split\n",
    "from sklearn.neural_network import MLPClassifier\n",
    "from sklearn.svm import SVC\n",
    "from sklearn.naive_bayes import GaussianNB\n",
    "\n",
    "import json\n",
    "import pandas as pd\n",
    "\n",
    "# accesories  = 0\n",
    "# cell_phones = 1\n",
    "\n",
    "data_train = []\n",
    "\n",
    "with open(\"accessories.json\", 'r') as file:\n",
    "    data = json.load(file)\n",
    "\n",
    "for key in data.keys():\n",
    "        for entry in data[key]:\n",
    "            data_train.append(pd.DataFrame.from_dict([entry]))\n",
    "\n",
    "with open(\"cell_phones.json\", 'r') as file:\n",
    "    data = json.load(file)\n",
    "\n",
    "for key in data.keys():\n",
    "        for entry in data[key]:\n",
    "            data_train.append(pd.DataFrame.from_dict([entry]))\n",
    "\n",
    "df = pd.concat(data_train)\n",
    "df[\"sentence\"] = df[\"title\"] + df[\"summary\"] + df[\"text\"]\n",
    "\n",
    "sentence = df[\"sentence\"].values\n",
    "label =    df[\"label\"].values\n",
    "\n",
    "sentence_train, sentence_test, y_train, y_test = train_test_split(\n",
    "    sentence, \n",
    "    label, \n",
    "    test_size=0.2\n",
    ")\n",
    "\n",
    "vectorizer = CountVectorizer()\n",
    "vectorizer.fit(sentence_train)\n",
    "\n",
    "X_train = vectorizer.transform(sentence_train).toarray()\n",
    "X_test  = vectorizer.transform(sentence_test).toarray()\n",
    "\n",
    "log_reg = LogisticRegression()\n",
    "log_reg.fit(X_train, y_train)\n",
    "score = log_reg.score(X_test, y_test)\n",
    "print('Logistic Regression: {}'.format(score))\n",
    "\n",
    "svc = SVC(kernel=\"linear\", C=1)\n",
    "svc.fit(X_train, y_train)\n",
    "score = svc.score(X_test, y_test)\n",
    "print('Linear kernel SVC accuracy: {}'.format(score))\n",
    "\n",
    "svc = SVC(kernel=\"rbf\", C=3)\n",
    "svc.fit(X_train, y_train)\n",
    "score = svc.score(X_test, y_test)\n",
    "print('Radial Basis Function kernel SVC accuracy: {}'.format(score))\n",
    "\n",
    "nb = GaussianNB()\n",
    "nb.fit(X_train, y_train)\n",
    "score = nb.score(X_test, y_test)\n",
    "print('Gaussian Naive Bayes accuracy: {}'.format(score))\n",
    "\n",
    "mlp = MLPClassifier()\n",
    "mlp.fit(X_train, y_train)\n",
    "score = mlp.score(X_test, y_test)\n",
    "print('Multi-layer Perceptron Classifier accuracy: {}'.format(score))"
   ]
  },
  {
   "cell_type": "code",
   "execution_count": 7,
   "metadata": {},
   "outputs": [],
   "source": [
    "# Predictions with my \"Proof of concept\" model(Gaussian Naive Bayes)\n",
    "\n",
    "with open(\"cell_phones_and_accessories.json\", 'r') as file:\n",
    "    data = json.load(file)\n",
    "    \n",
    "data_train = []\n",
    "i = 0\n",
    "for key in data.keys():\n",
    "    for entry in data[key]:\n",
    "        if i == 100000:\n",
    "            break\n",
    "        sentence_to_predict = pd.DataFrame.from_dict([entry])\n",
    "        \n",
    "        \n",
    "        sentence_to_predict[\"sentence\"] = sentence_to_predict[\"title\"] + sentence_to_predict[\"summary\"] + sentence_to_predict[\"text\"]\n",
    "        sentence = sentence_to_predict[\"sentence\"].values\n",
    "        data_to_predict = vectorizer.transform(sentence).toarray()\n",
    "\n",
    "        entry[\"label\"] = str(nb.predict(data_to_predict)[0])\n",
    "        data_train.append(entry)\n",
    "        i+=1\n",
    "\n",
    "with open(\"cell_and_accessories_test_label.json\", \"w+\") as file:\n",
    "    json.dump(data_train, file, indent=2)"
   ]
  }
 ],
 "metadata": {
  "kernelspec": {
   "display_name": "Python 3",
   "language": "python",
   "name": "python3"
  },
  "language_info": {
   "codemirror_mode": {
    "name": "ipython",
    "version": 3
   },
   "file_extension": ".py",
   "mimetype": "text/x-python",
   "name": "python",
   "nbconvert_exporter": "python",
   "pygments_lexer": "ipython3",
   "version": "3.10.6"
  },
  "orig_nbformat": 4,
  "vscode": {
   "interpreter": {
    "hash": "f71b3aa69000d5c78d1421c4be6cf6621e82827a1b46894d8daac515bba9a137"
   }
  }
 },
 "nbformat": 4,
 "nbformat_minor": 2
}
