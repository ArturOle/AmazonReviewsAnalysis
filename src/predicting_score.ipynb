{
 "cells": [
  {
   "cell_type": "code",
   "execution_count": 1,
   "metadata": {},
   "outputs": [
    {
     "name": "stdout",
     "output_type": "stream",
     "text": [
      "['Sony Ericsson Classic Case for Sony Ericsson C702a, C905a, K850i, TM506, W350a, W380a, W580i, W595a, W705a, W995aWANT TO LOOSE YOUR PHONE?VERY POOR CLIP, NO SPUR TO RETAIN CASE ON BELT. PLASTIC CLIP LOOSES CLAMPING ABILITY FAST. YOU WILL LOOSE YOUR PHONE! GET A CASE THAT HAS BELT LOOPS.'\n",
      " 'Sony Ericsson Classic Case for Sony Ericsson C702a, C905a, K850i, TM506, W350a, W380a, W580i, W595a, W705a, W995aGood productI purchased it for W580i. It fits tight and looks good. It is good value for the money. I wish it had proper cutouts for charge cable connection.Overall, good case for Ericsson.'\n",
      " 'Bargaincell- Brand New Nokia 6103, 6102i, 6102, 6101, 2125i, 2126i, 2128i, 3220, 6015i, 6016i, 6019i, 3205, 3200, 6820, 6822, 3570, 3585, 3585i, 3586i, 3587i, 3588i, 3589i, 6200, 6225, 6585, 3100, 3120, 2270, 2285, 7210, 6800 CA-42 Compatible USB Data CableDid not work for meSeems pretty simple with CD included. Newer software is online from Nokia--but I could not get connection with Nokia 6820 and gave up. At least the cable was cheap enough. No idea if I failed or cable was incorrect.'\n",
      " ...\n",
      " \"Motorola RAZR V3 Swivel HolsterQuick, Easy, and SecureHave had several types of holsters for my now antiquated RAZR, including this same type before. They all break in time, but this model lasted the longest without damaging my phone as some others have. I don't like cases, when the phone rings, I like to be able to get it out quick, while this holster holds the phone securely, it provides quick access when needed.\"\n",
      " \"Motorola RAZR V3 Swivel Holsterworks wellgreat price and works with my rzr phone perfectly...(screen side in). i bought 2 since the price was good and I'm hard on these little suckers.\"\n",
      " \"Motorola RAZR V3 Swivel HolsterYou get what you pay for...Broke in less than 1 week. I only paid $ .54 so I can't complain. Remember if it seems to good to be true... it is. If you buy this product, I would suggest placing a standard weekly order.\"]\n",
      "Gaussian Naive Bayes accuracy: 0.3072644530591606\n"
     ]
    }
   ],
   "source": [
    "from sklearn.feature_extraction.text import CountVectorizer\n",
    "from sklearn.linear_model import LogisticRegression\n",
    "from sklearn.model_selection import train_test_split\n",
    "from sklearn.svm import SVC\n",
    "from sklearn.naive_bayes import GaussianNB\n",
    "\n",
    "import json\n",
    "import pandas as pd\n",
    "import numpy as np\n",
    "# score from 0 to 5\n",
    "\n",
    "\n",
    "data_train = []\n",
    "\n",
    "with open(\"cell_phones_and_accessories.json\", 'r') as file:\n",
    "    data = json.load(file)\n",
    "\n",
    "with open(\"prediction_cell_and_accessories.json\", 'r') as file:\n",
    "    data_pred = json.load(file)\n",
    "\n",
    "for key in data.keys():\n",
    "    if key not in data_pred.keys():    \n",
    "        i = 0\n",
    "        for entry in data[key]:\n",
    "            if i > 4:\n",
    "                break\n",
    "            data_to_load = {}\n",
    "            data_to_load[\"sentence\"] = entry[\"title\"] + entry[\"summary\"] + entry[\"text\"]\n",
    "            data_to_load[\"score\"] = entry[\"score\"]\n",
    "            data_train.append(pd.DataFrame.from_dict([data_to_load]))\n",
    "            i+=1\n",
    "\n",
    "df = pd.concat(data_train)\n",
    "# df['label'] = df['label'].astype(np.uint8)\n",
    "sentence = df[\"sentence\"].values\n",
    "score =    df[\"score\"].values\n",
    "print(sentence)\n",
    "sentence_train, sentence_test, y_train, y_test = train_test_split(\n",
    "    sentence, \n",
    "    score, \n",
    "    test_size=0.3\n",
    ")\n",
    "\n",
    "vectorizer = CountVectorizer()\n",
    "vectorizer.fit(sentence_train)\n",
    "\n",
    "X_train = vectorizer.transform(sentence_train).toarray()\n",
    "X_test  = vectorizer.transform(sentence_test).toarray()\n",
    "\n",
    "nb = GaussianNB()\n",
    "nb.fit(X_train, y_train)\n",
    "score = nb.score(X_test, y_test)\n",
    "print('Gaussian Naive Bayes accuracy: {}'.format(score))"
   ]
  }
 ],
 "metadata": {
  "kernelspec": {
   "display_name": "Python 3",
   "language": "python",
   "name": "python3"
  },
  "language_info": {
   "codemirror_mode": {
    "name": "ipython",
    "version": 3
   },
   "file_extension": ".py",
   "mimetype": "text/x-python",
   "name": "python",
   "nbconvert_exporter": "python",
   "pygments_lexer": "ipython3",
   "version": "3.10.6"
  },
  "orig_nbformat": 4,
  "vscode": {
   "interpreter": {
    "hash": "f71b3aa69000d5c78d1421c4be6cf6621e82827a1b46894d8daac515bba9a137"
   }
  }
 },
 "nbformat": 4,
 "nbformat_minor": 2
}
